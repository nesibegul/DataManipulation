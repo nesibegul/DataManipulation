{
 "cells": [
  {
   "attachments": {},
   "cell_type": "markdown",
   "id": "23c0f24e",
   "metadata": {},
   "source": [
    "## Question 1:\n",
    "We have two jumping robots. Both will jump from a starting point to the same direction.\n",
    "* The first robot starts from the x1 position and jumps forward v1 meters.\n",
    "* The second robot starts from the x2 position and jumps forward v2 meters.\n",
    "Our aim is to determine whether the robots that start jumping at the same time will come to the same point at time t (True/False)."
   ]
  },
  {
   "cell_type": "code",
   "execution_count": 151,
   "id": "0147ce1d",
   "metadata": {},
   "outputs": [],
   "source": [
    "def robojump(x1, v1, x2, v2):\n",
    "    # Eğer v1 ve v2 aynı ise, aynı noktaya gelip gelmeme durumu x1 ve x2'ye göre belirlenir\n",
    "    if v1 == v2:\n",
    "        return x1 == x2\n",
    "    \n",
    "    # Eğer v1 ve v2 farklı ise, t'yi hesapla\n",
    "    t = (x2 - x1) / (v1 - v2)\n",
    "\n",
    "    # Eğer t tam sayı ve pozitifse aynı noktaya gelirler\n",
    "    return (t == int(t) and t>0)"
   ]
  },
  {
   "cell_type": "code",
   "execution_count": 152,
   "id": "76879ca8",
   "metadata": {},
   "outputs": [
    {
     "data": {
      "text/plain": [
       "True"
      ]
     },
     "execution_count": 152,
     "metadata": {},
     "output_type": "execute_result"
    }
   ],
   "source": [
    "robojump(x1 = 7, v1 = 0, x2 = 5, v2 = 2 )"
   ]
  },
  {
   "attachments": {},
   "cell_type": "markdown",
   "id": "713c143d",
   "metadata": {},
   "source": [
    "## Question 2:\n",
    "We're going to write a function for a game show. The purpose of the function is to determine the winner of the competition according to the scores found in the \"contest.txt\" it reads.\n",
    "Example input log: There are three rows (3 competitors) and each row has four values (4 separate points).\n",
    "40 10 5 5\n",
    "30 20 10 0\n",
    "30 30 10 5\n",
    "1. Competitor got the highest score in Question 1. (40-30-30)\n",
    "3. The competitor got the highest score in Question 2. (10-20-30)\n",
    "The 2nd and 3rd Contestants got the highest score in Question 3 (5-10-10)\n",
    "1st and 3rd Competitors got the highest score in Question 4 (5-0-5)\n",
    "At the end of the competition\n",
    "* 1st Contestant: 2 points\n",
    "* 2nd Contestant: 1 point\n",
    "* 3rd Contestant: 3 points\n",
    "He has. The winner is the 3rd Contestant.\n",
    "Constraints:\n",
    "The number of rows can be variable (1 to 100).\n",
    "Values within the row may vary (from 1 to 100), but will be the same in every row.\n",
    "There may be more than one winner at the end of the competition. Those who get the same highest score will be deemed the winner.\n",
    "The data will be read from the log and the result will be printed on the screen.\n",
    "Constest function will take the file name as parameter."
   ]
  },
  {
   "cell_type": "code",
   "execution_count": 72,
   "id": "d823ae69",
   "metadata": {},
   "outputs": [],
   "source": [
    "import os\n",
    "def contest(filename):\n",
    "    #Path alma\n",
    "    my_path = os.getcwd()\n",
    "    #path ile dosya ismini birleştirme\n",
    "    my_file = os.path.join(my_path, filename)\n",
    "     \n",
    "    #Kütükte herbir satırı liste olarak okuma\n",
    "    with open(my_file, \"r\") as f:\n",
    "        lines = f.readlines()\n",
    "    \n",
    "    #Herbir sorudaki skorları liste içinde liste olarak tutma ve veri tipini int yapma\n",
    "    scores = []\n",
    "    for line in lines:\n",
    "        a = [int(x) for x in line.split()]\n",
    "        scores.append(a)\n",
    "        \n",
    "    #Yarışmacılara ait puanlar   \n",
    "    questions_scores = list(zip(*scores))\n",
    "    \n",
    "    #Kazananların liste içinde tutulması\n",
    "    winners_list  =[]\n",
    "    for score in questions_scores:\n",
    "        max_score = max(score)\n",
    "        winner = [i+1 for i, scr in enumerate(score) if scr == max_score ]\n",
    "        winners_list.extend(winner)\n",
    "    \n",
    "    #Kazanan listesinin sayılması\n",
    "    winners_count = {} \n",
    "    for winner in winners_list:\n",
    "        if winner in winners_count:\n",
    "            winners_count[winner] += 1\n",
    "        else:\n",
    "            winners_count[winner]= 1\n",
    "\n",
    "    #Yarışacıların kaç puan aldıklarının yazılması\n",
    "    for  winner, times in winners_count.items():\n",
    "        print(f\"{winner}. kişi {times} puan almıştır\")\n",
    "\n",
    "    #En yüksek puan alan yarışmacının yazılması\n",
    "    max_count = max(winners_count)    \n",
    "    for i, j in winners_count.items():\n",
    "        if j ==max_count:\n",
    "            print(f\"Kazanan {i}. Kişidir\")\n",
    "\n",
    "\n",
    "\n",
    "\n"
   ]
  },
  {
   "cell_type": "code",
   "execution_count": 73,
   "id": "31fcd193",
   "metadata": {},
   "outputs": [
    {
     "name": "stdout",
     "output_type": "stream",
     "text": [
      "1. kişi 2 puan almıştır\n",
      "3. kişi 3 puan almıştır\n",
      "2. kişi 1 puan almıştır\n",
      "Kazanan 3. Kişidir\n"
     ]
    }
   ],
   "source": [
    "contest(\"yarisma_kutuk.txt\")"
   ]
  },
  {
   "attachments": {},
   "cell_type": "markdown",
   "id": "fe10cb9d",
   "metadata": {},
   "source": [
    "## In a video game, a list of achievements is kept at the end of the game. The list of achievements is determined in the following order.\n",
    "*  The person with the highest score takes the 1st place.\n",
    "* If there are players with the same score, they get the same rank. The next players are ranked accordingly.\n",
    "Example:\n",
    "Ranking Player and Score\n",
    "Player A 100 1\n",
    "Player B 90 2\n",
    "Player C 90 2\n",
    "Player D 50 3\n",
    "What is required of you is to write a function that takes the list of current achievements and the new player's points after a few games as a parameter. The function will calculate the player's ranks for each point and print them on the screen.\n",
    "Example:\n",
    "ranklist = [100, 100, 50, 40, 40, 20, 10] # current achievement list will be given in descending order.\n",
    "scores = [5, 25, 50, 120] # the player's points will be awarded in ascending order.\n",
    "\n",
    "Screen output:\n",
    "* 6\n",
    "* 4\n",
    "* 2\n",
    "one\n",
    "Constraints:\n",
    "* There will be at least one value in the Ranklist. There will be a maximum of 100 values.\n",
    "* Scores will have at least one value. There will be a maximum of 50 values.\n",
    "\n",
    "Write the function that performs the operation mentioned above."
   ]
  },
  {
   "cell_type": "code",
   "execution_count": 149,
   "id": "a3abb2b8",
   "metadata": {},
   "outputs": [
    {
     "data": {
      "text/plain": [
       "[(100, 1), (100, 1), (50, 2), (40, 3), (40, 3), (20, 4), (10, 5)]"
      ]
     },
     "execution_count": 149,
     "metadata": {},
     "output_type": "execute_result"
    }
   ],
   "source": [
    "ranklist = [100, 100, 50, 40, 40, 20, 10]\n",
    "scores = [5, 25, 50, 120] \n",
    "\n",
    "def calculate_rank(ranklist):\n",
    "    a={}\n",
    "    rank=1\n",
    "    ranklist.sort(reverse =True)\n",
    "    for num in ranklist:\n",
    "        if num not in a:\n",
    "            a[num]=rank\n",
    "            rank=rank+1\n",
    "    return[(i, a[i]) for i in ranklist]\n",
    "calculate_rank(ranklist)"
   ]
  },
  {
   "cell_type": "code",
   "execution_count": 150,
   "id": "ca4a19aa",
   "metadata": {},
   "outputs": [
    {
     "name": "stdout",
     "output_type": "stream",
     "text": [
      "6\n",
      "4\n",
      "2\n",
      "1\n"
     ]
    }
   ],
   "source": [
    "#scoreboard fonksiyonu yukaridaki calculate_rank()\n",
    "#fonksiyonunu çağırarak yeni listenin sıralamasını hesaplar.\n",
    "\n",
    "def scoreboard(ranklist, scores):\n",
    "    \n",
    "    try:\n",
    "        if len(ranklist) < 1 or len(ranklist) > 100:\n",
    "            raise ValueError(\"Ranklist listesi en az 1 en fazla 100 değer içermelidir.\")\n",
    "        if len(scores) < 1 or len(scores) > 50:\n",
    "            raise ValueError(\"Scores listesi en az 1 en fazla 50 değer içermelidir.\")\n",
    "\n",
    "        scores.sort()\n",
    "        ranklist.sort(reverse = True)\n",
    "        #Scores'da yer alan değer ranklistte yer alıyorsa scores'a ait sıralamanın yazılması\n",
    "        for score in scores:\n",
    "            if score in ranklist:\n",
    "                for i in calculate_rank(ranklist):\n",
    "                    if score==i[0]:\n",
    "                        print(i[1])\n",
    "            else: #Scores'da yer alan değer ranklist'te yer almıyorsa yeni listenin sıralaması hesaplanır ve yazdırılır\n",
    "                ranklist2 = ranklist[:]\n",
    "                ranklist2.append(score)\n",
    "                ranks = calculate_rank(ranklist2)\n",
    "                for a in ranks:\n",
    "                    if  score==a[0]:\n",
    "                        print(a[1])\n",
    "\n",
    "    except ValueError as e:\n",
    "        print(e)\n",
    "        \n",
    "        \n",
    "scoreboard(ranklist, scores)"
   ]
  },
  {
   "cell_type": "code",
   "execution_count": null,
   "id": "8abb522b",
   "metadata": {},
   "outputs": [],
   "source": []
  }
 ],
 "metadata": {
  "kernelspec": {
   "display_name": "Python 3 (ipykernel)",
   "language": "python",
   "name": "python3"
  },
  "language_info": {
   "codemirror_mode": {
    "name": "ipython",
    "version": 3
   },
   "file_extension": ".py",
   "mimetype": "text/x-python",
   "name": "python",
   "nbconvert_exporter": "python",
   "pygments_lexer": "ipython3",
   "version": "3.7.0"
  }
 },
 "nbformat": 4,
 "nbformat_minor": 5
}
