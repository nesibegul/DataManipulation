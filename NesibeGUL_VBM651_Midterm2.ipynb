{
 "cells": [
  {
   "cell_type": "markdown",
   "id": "23c0f24e",
   "metadata": {},
   "source": [
    "## 1.soru "
   ]
  },
  {
   "cell_type": "code",
   "execution_count": 151,
   "id": "0147ce1d",
   "metadata": {},
   "outputs": [],
   "source": [
    "def robojump(x1, v1, x2, v2):\n",
    "    # Eğer v1 ve v2 aynı ise, aynı noktaya gelip gelmeme durumu x1 ve x2'ye göre belirlenir\n",
    "    if v1 == v2:\n",
    "        return x1 == x2\n",
    "    \n",
    "    # Eğer v1 ve v2 farklı ise, t'yi hesapla\n",
    "    t = (x2 - x1) / (v1 - v2)\n",
    "\n",
    "    # Eğer t tam sayı ve pozitifse aynı noktaya gelirler\n",
    "    return (t == int(t) and t>0)"
   ]
  },
  {
   "cell_type": "code",
   "execution_count": 152,
   "id": "76879ca8",
   "metadata": {},
   "outputs": [
    {
     "data": {
      "text/plain": [
       "True"
      ]
     },
     "execution_count": 152,
     "metadata": {},
     "output_type": "execute_result"
    }
   ],
   "source": [
    "robojump(x1 = 7, v1 = 0, x2 = 5, v2 = 2 )"
   ]
  },
  {
   "cell_type": "markdown",
   "id": "713c143d",
   "metadata": {},
   "source": [
    "## 2.soru"
   ]
  },
  {
   "cell_type": "code",
   "execution_count": 72,
   "id": "d823ae69",
   "metadata": {},
   "outputs": [],
   "source": [
    "import os\n",
    "def contest(filename):\n",
    "    #Path alma\n",
    "    my_path = os.getcwd()\n",
    "    #path ile dosya ismini birleştirme\n",
    "    my_file = os.path.join(my_path, filename)\n",
    "     \n",
    "    #Kütükte herbir satırı liste olarak okuma\n",
    "    with open(my_file, \"r\") as f:\n",
    "        lines = f.readlines()\n",
    "    \n",
    "    #Herbir sorudaki skorları liste içinde liste olarak tutma ve veri tipini int yapma\n",
    "    scores = []\n",
    "    for line in lines:\n",
    "        a = [int(x) for x in line.split()]\n",
    "        scores.append(a)\n",
    "        \n",
    "    #Yarışmacılara ait puanlar   \n",
    "    questions_scores = list(zip(*scores))\n",
    "    \n",
    "    #Kazananların liste içinde tutulması\n",
    "    winners_list  =[]\n",
    "    for score in questions_scores:\n",
    "        max_score = max(score)\n",
    "        winner = [i+1 for i, scr in enumerate(score) if scr == max_score ]\n",
    "        winners_list.extend(winner)\n",
    "    \n",
    "    #Kazanan listesinin sayılması\n",
    "    winners_count = {} \n",
    "    for winner in winners_list:\n",
    "        if winner in winners_count:\n",
    "            winners_count[winner] += 1\n",
    "        else:\n",
    "            winners_count[winner]= 1\n",
    "\n",
    "    #Yarışacıların kaç puan aldıklarının yazılması\n",
    "    for  winner, times in winners_count.items():\n",
    "        print(f\"{winner}. kişi {times} puan almıştır\")\n",
    "\n",
    "    #En yüksek puan alan yarışmacının yazılması\n",
    "    max_count = max(winners_count)    \n",
    "    for i, j in winners_count.items():\n",
    "        if j ==max_count:\n",
    "            print(f\"Kazanan {i}. Kişidir\")\n",
    "\n",
    "\n",
    "\n",
    "\n"
   ]
  },
  {
   "cell_type": "code",
   "execution_count": 73,
   "id": "31fcd193",
   "metadata": {},
   "outputs": [
    {
     "name": "stdout",
     "output_type": "stream",
     "text": [
      "1. kişi 2 puan almıştır\n",
      "3. kişi 3 puan almıştır\n",
      "2. kişi 1 puan almıştır\n",
      "Kazanan 3. Kişidir\n"
     ]
    }
   ],
   "source": [
    "contest(\"yarisma_kutuk.txt\")"
   ]
  },
  {
   "cell_type": "markdown",
   "id": "fe10cb9d",
   "metadata": {},
   "source": [
    "## 3.soru"
   ]
  },
  {
   "cell_type": "code",
   "execution_count": 149,
   "id": "a3abb2b8",
   "metadata": {},
   "outputs": [
    {
     "data": {
      "text/plain": [
       "[(100, 1), (100, 1), (50, 2), (40, 3), (40, 3), (20, 4), (10, 5)]"
      ]
     },
     "execution_count": 149,
     "metadata": {},
     "output_type": "execute_result"
    }
   ],
   "source": [
    "ranklist = [100, 100, 50, 40, 40, 20, 10]\n",
    "scores = [5, 25, 50, 120] \n",
    "\n",
    "def calculate_rank(ranklist):\n",
    "    a={}\n",
    "    rank=1\n",
    "    ranklist.sort(reverse =True)\n",
    "    for num in ranklist:\n",
    "        if num not in a:\n",
    "            a[num]=rank\n",
    "            rank=rank+1\n",
    "    return[(i, a[i]) for i in ranklist]\n",
    "calculate_rank(ranklist)"
   ]
  },
  {
   "cell_type": "code",
   "execution_count": 150,
   "id": "ca4a19aa",
   "metadata": {},
   "outputs": [
    {
     "name": "stdout",
     "output_type": "stream",
     "text": [
      "6\n",
      "4\n",
      "2\n",
      "1\n"
     ]
    }
   ],
   "source": [
    "#scoreboard fonksiyonu yukaridaki calculate_rank()\n",
    "#fonksiyonunu çağırarak yeni listenin sıralamasını hesaplar.\n",
    "\n",
    "def scoreboard(ranklist, scores):\n",
    "    \n",
    "    try:\n",
    "        if len(ranklist) < 1 or len(ranklist) > 100:\n",
    "            raise ValueError(\"Ranklist listesi en az 1 en fazla 100 değer içermelidir.\")\n",
    "        if len(scores) < 1 or len(scores) > 50:\n",
    "            raise ValueError(\"Scores listesi en az 1 en fazla 50 değer içermelidir.\")\n",
    "\n",
    "        scores.sort()\n",
    "        ranklist.sort(reverse = True)\n",
    "        #Scores'da yer alan değer ranklistte yer alıyorsa scores'a ait sıralamanın yazılması\n",
    "        for score in scores:\n",
    "            if score in ranklist:\n",
    "                for i in calculate_rank(ranklist):\n",
    "                    if score==i[0]:\n",
    "                        print(i[1])\n",
    "            else: #Scores'da yer alan değer ranklist'te yer almıyorsa yeni listenin sıralaması hesaplanır ve yazdırılır\n",
    "                ranklist2 = ranklist[:]\n",
    "                ranklist2.append(score)\n",
    "                ranks = calculate_rank(ranklist2)\n",
    "                for a in ranks:\n",
    "                    if  score==a[0]:\n",
    "                        print(a[1])\n",
    "\n",
    "    except ValueError as e:\n",
    "        print(e)\n",
    "        \n",
    "        \n",
    "scoreboard(ranklist, scores)"
   ]
  },
  {
   "cell_type": "code",
   "execution_count": null,
   "id": "8abb522b",
   "metadata": {},
   "outputs": [],
   "source": []
  }
 ],
 "metadata": {
  "kernelspec": {
   "display_name": "Python 3 (ipykernel)",
   "language": "python",
   "name": "python3"
  },
  "language_info": {
   "codemirror_mode": {
    "name": "ipython",
    "version": 3
   },
   "file_extension": ".py",
   "mimetype": "text/x-python",
   "name": "python",
   "nbconvert_exporter": "python",
   "pygments_lexer": "ipython3",
   "version": "3.7.0"
  }
 },
 "nbformat": 4,
 "nbformat_minor": 5
}
